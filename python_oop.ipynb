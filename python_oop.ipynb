{
 "cells": [
  {
   "cell_type": "markdown",
   "metadata": {},
   "source": [
    "# OOP in Python\n",
    "* Everything in Python is an **ob\n",
    "* A user-defined tybe is called a **class**\n",
    "* An **instance** is a particular type of object (e.g. 1234 is an instance of the type int, \"hello\" is an instance of the type string)\n"
   ]
  },
  {
   "cell_type": "code",
   "execution_count": 3,
   "metadata": {
    "collapsed": true
   },
   "outputs": [],
   "source": [
    "import datetime\n",
    "\n",
    "class Person(object):\n",
    "    def __init__(self, name):\n",
    "        self.name = name\n",
    "        self.birthday = None\n",
    "        self.lastName = name.split(' ')[-1]\n",
    "        \n",
    "    def getLastName(self):\n",
    "        return self.lastName\n",
    "    \n",
    "    def __str__(self):\n",
    "        \"\"\"return self's name. Allows use of print() function on instance of class\"\"\"\n",
    "        return self.name\n",
    "    \n",
    "    def setBirthday(self, month, day, year):\n",
    "        \"\"\"sets self's birthday to birthDate\"\"\"\n",
    "        self.birthday = datetime.date(year, month, day)\n",
    "        \n",
    "    def getAge(self):\n",
    "        \"\"\"returns self's current age in days\"\"\"\n",
    "        if self.birthday == None:\n",
    "            raise ValueError\n",
    "            \n",
    "        return (datetime.date.today() - self.birthday).days\n",
    "    \n",
    "    def __lt__(self, other):\n",
    "        \"\"\"return True if self's name is lexicographically less\n",
    "        than other's name, False otherwise\"\"\"\n",
    "        if self.lastName == other.lastName:\n",
    "            return self.name < other.name\n",
    "        return self.lastName < other.lastName"
   ]
  },
  {
   "cell_type": "code",
   "execution_count": 6,
   "metadata": {
    "collapsed": true
   },
   "outputs": [],
   "source": [
    "p1 = Person('Palermo Penano')\n",
    "p2 = Person('Mary Geraldine Mercado')"
   ]
  },
  {
   "cell_type": "code",
   "execution_count": 7,
   "metadata": {},
   "outputs": [
    {
     "name": "stdout",
     "output_type": "stream",
     "text": [
      "Mary Geraldine Mercado\n"
     ]
    }
   ],
   "source": [
    "print(p2)"
   ]
  },
  {
   "cell_type": "code",
   "execution_count": 10,
   "metadata": {},
   "outputs": [],
   "source": [
    "p2.setBirthday(3, 22, 1987)"
   ]
  },
  {
   "cell_type": "code",
   "execution_count": 11,
   "metadata": {},
   "outputs": [
    {
     "data": {
      "text/plain": [
       "'Mercado'"
      ]
     },
     "execution_count": 11,
     "metadata": {},
     "output_type": "execute_result"
    }
   ],
   "source": [
    "p2.getLastName()"
   ]
  },
  {
   "cell_type": "code",
   "execution_count": 13,
   "metadata": {},
   "outputs": [
    {
     "data": {
      "text/plain": [
       "30.643835616438356"
      ]
     },
     "execution_count": 13,
     "metadata": {},
     "output_type": "execute_result"
    }
   ],
   "source": [
    "p2.getAge() / 365"
   ]
  },
  {
   "cell_type": "code",
   "execution_count": 14,
   "metadata": {
    "collapsed": true
   },
   "outputs": [],
   "source": [
    "p1.setBirthday(1, 16, 1985\n",
    "    )"
   ]
  },
  {
   "cell_type": "code",
   "execution_count": 15,
   "metadata": {},
   "outputs": [
    {
     "data": {
      "text/plain": [
       "32.821917808219176"
      ]
     },
     "execution_count": 15,
     "metadata": {},
     "output_type": "execute_result"
    }
   ],
   "source": [
    "p1.getAge() / 365"
   ]
  },
  {
   "cell_type": "code",
   "execution_count": null,
   "metadata": {
    "collapsed": true
   },
   "outputs": [],
   "source": []
  }
 ],
 "metadata": {
  "kernelspec": {
   "display_name": "Python 3",
   "language": "python",
   "name": "python3"
  },
  "language_info": {
   "codemirror_mode": {
    "name": "ipython",
    "version": 3
   },
   "file_extension": ".py",
   "mimetype": "text/x-python",
   "name": "python",
   "nbconvert_exporter": "python",
   "pygments_lexer": "ipython3",
   "version": "3.6.1"
  }
 },
 "nbformat": 4,
 "nbformat_minor": 2
}
