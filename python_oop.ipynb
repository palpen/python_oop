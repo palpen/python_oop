{
 "cells": [
  {
   "cell_type": "markdown",
   "metadata": {},
   "source": [
    "# OOP in Python\n",
    "* Everything in Python is an **object** and has a **type**\n",
    "* A user-defined type is called a **class**\n",
    "* An **instance** is a particular type of object (e.g. 1234 is an instance of the type int, \"hello\" is an instance of the type string)\n",
    "\n",
    "## Questions\n",
    "* why do some method calls include a () at the end and some do not?\n",
    "    - e.g. my_array = np.array([[1], [2]], my_array.shape\n"
   ]
  },
  {
   "cell_type": "code",
   "execution_count": 29,
   "metadata": {},
   "outputs": [
    {
     "name": "stdout",
     "output_type": "stream",
     "text": [
      "bar!\n"
     ]
    }
   ],
   "source": [
    "# a basic class\n",
    "\n",
    "class testclass(object):\n",
    "    a = 'test string'\n",
    "    \n",
    "    def foo():\n",
    "        print('bar!')\n",
    "\n",
    "# pulling variables and functions out of a class is done using the period\n",
    "testclass.a\n",
    "testclass.foo()"
   ]
  },
  {
   "cell_type": "code",
   "execution_count": 1,
   "metadata": {
    "collapsed": true
   },
   "outputs": [],
   "source": [
    "# a more interesting class\n",
    "# object arguement allows us to inherit attributes of object superclass\n",
    "\n",
    "class my_string(object):\n",
    "    \n",
    "    def __init__(self, string):\n",
    "        self.string = string"
   ]
  },
  {
   "cell_type": "markdown",
   "metadata": {},
   "source": [
    "What is going on here? Here we have defined a new **type**. The new **type** will have attributes, which will be provided by the user. It also inherits all the attributes of the superclass `object`. This makes the class `my_string` a subclass of `object`.\n",
    "\n",
    "To create an instance of this class we created, type\n",
    "\n",
    "```python\n",
    "str1 = my_string('hello')\n",
    "```\n",
    "\n",
    "`str1` is now a new instance of the class `my_string` with the attribute \"hello\". `self` becomes the instance `str1` and we are binding \"hello\" to this specific instance. `self` is important because it will allow us to create many different instances of the class `my_string`, which with their own unique attribute."
   ]
  },
  {
   "cell_type": "code",
   "execution_count": 8,
   "metadata": {},
   "outputs": [],
   "source": [
    "str1 = my_string('dog')\n",
    "str2 = my_string('cat')"
   ]
  },
  {
   "cell_type": "markdown",
   "metadata": {},
   "source": [
    "The way the class is defined now isn't very interesting. We can initialize it with a string, but not much else. Let's give it a method that prints out its attribute. We do this by using a the built-in function **\\__str\\__**."
   ]
  },
  {
   "cell_type": "code",
   "execution_count": 9,
   "metadata": {
    "collapsed": true
   },
   "outputs": [],
   "source": [
    "class my_string(object):\n",
    "    \n",
    "    def __init__(self, string):\n",
    "        \n",
    "        self.string = string\n",
    "        \n",
    "    def __str__(self):\n",
    "        return self.string"
   ]
  },
  {
   "cell_type": "markdown",
   "metadata": {},
   "source": [
    "The method we have defined in the class will allow us to use the print function to print out the attribute of an instance of our class."
   ]
  },
  {
   "cell_type": "code",
   "execution_count": 10,
   "metadata": {},
   "outputs": [
    {
     "name": "stdout",
     "output_type": "stream",
     "text": [
      "hello\n"
     ]
    }
   ],
   "source": [
    "str1 = my_string('hello')\n",
    "print(str1)"
   ]
  },
  {
   "cell_type": "markdown",
   "metadata": {},
   "source": [
    "# Person class"
   ]
  },
  {
   "cell_type": "code",
   "execution_count": 11,
   "metadata": {
    "collapsed": true
   },
   "outputs": [],
   "source": [
    "import datetime\n",
    "\n",
    "class Person(object):\n",
    "    def __init__(self, name):\n",
    "        self.name = name\n",
    "        self.birthday = None\n",
    "        self.lastName = name.split(' ')[-1]\n",
    "        \n",
    "    def getLastName(self):\n",
    "        return self.lastName\n",
    "    \n",
    "    def __str__(self):\n",
    "        \"\"\"return self's name. Allows use of print() function on instance of class\"\"\"\n",
    "        return self.name\n",
    "    \n",
    "    def setBirthday(self, month, day, year):\n",
    "        \"\"\"sets self's birthday to birthDate\"\"\"\n",
    "        self.birthday = datetime.date(year, month, day)\n",
    "        \n",
    "    def getAge(self):\n",
    "        \"\"\"returns self's current age in days\"\"\"\n",
    "        if self.birthday == None:\n",
    "            raise ValueError\n",
    "            \n",
    "        return (datetime.date.today() - self.birthday).days\n",
    "    \n",
    "    def __lt__(self, other):\n",
    "        \"\"\"return True if self's name is lexicographically less\n",
    "        than other's name, False otherwise\"\"\"\n",
    "        if self.lastName == other.lastName:\n",
    "            return self.name < other.name\n",
    "        return self.lastName < other.lastName"
   ]
  },
  {
   "cell_type": "code",
   "execution_count": 12,
   "metadata": {},
   "outputs": [
    {
     "name": "stdout",
     "output_type": "stream",
     "text": [
      "Joe Smith\n"
     ]
    },
    {
     "data": {
      "text/plain": [
       "'Smith'"
      ]
     },
     "execution_count": 12,
     "metadata": {},
     "output_type": "execute_result"
    }
   ],
   "source": [
    "p1 = Person('Joe Smith')\n",
    "print(p1)  # uses the built-in method __str__\n",
    "p1.setBirthday(1, 15, 1974)\n",
    "p1.getAge() # get age in days\n",
    "p1.getLastName()"
   ]
  },
  {
   "cell_type": "markdown",
   "metadata": {},
   "source": [
    "# Building inheritence"
   ]
  },
  {
   "cell_type": "code",
   "execution_count": 37,
   "metadata": {},
   "outputs": [],
   "source": [
    "class MITPerson(Person):  # inherits Person attributes\n",
    "    nextIdNum = 0  # useful for cases where two different people with same name\n",
    "    \n",
    "    def __init__(self, name):\n",
    "        Person.__init__(self, name)  # initialize person attribute\n",
    "        self.idNum = MITPerson.nextIdNum  # initialize MITPerson attribute\n",
    "        MITPerson.nextIdNum += 1\n",
    "        \n",
    "    def getIdNum(self):\n",
    "        return self.idNum\n",
    "    \n",
    "    def __lt__(self, other):\n",
    "        return self.idNum < other.idNum\n",
    "    \n",
    "    def speak(self, utterance):\n",
    "        return (self.getLastName() + \" says: \" + utterance)\n",
    "\n",
    "class Professor(MITPerson):\n",
    "    \n",
    "    def __init__(self, name, department):\n",
    "        MITPerson.__init__(self, name)\n",
    "        self.department = department\n",
    "    \n",
    "    def speak(self, utterance):\n",
    "        new = \"In course\" + self.department + \" we say\"\n",
    "        return MITPerson.speak(self, new + utterance)\n",
    "    \n",
    "    def lecture(self, topic):\n",
    "        return self.speak('it is obvious that ' + topic)\n",
    "    \n",
    "class Student(MITPerson): # inherit MITPerson attributes\n",
    "    pass\n",
    "    \n",
    "class UG(Student):\n",
    "    \n",
    "    def __init__(self, name, classYear):\n",
    "        MITPerson.__init__(self, name)\n",
    "        self.classYear = classYear\n",
    "        \n",
    "    def getClass(self):\n",
    "        return self.year\n",
    "    \n",
    "    def speak(self, utterance):\n",
    "        # this method inherits the method in MITPerson\n",
    "        return MITPerson.speak(self, \"Dude, \" + utterance)\n",
    "    \n",
    "class Grad(Student):\n",
    "    pass\n",
    "\n",
    "class TransferStudent(Student):\n",
    "    pass\n",
    "\n",
    "# pass the instance of a MIT UG or Grad and check if they are a student\n",
    "def isStudent(obj):\n",
    "    return isinstance(obj, Student)\n",
    "    "
   ]
  },
  {
   "cell_type": "code",
   "execution_count": 38,
   "metadata": {},
   "outputs": [
    {
     "data": {
      "text/plain": [
       "False"
      ]
     },
     "execution_count": 38,
     "metadata": {},
     "output_type": "execute_result"
    }
   ],
   "source": [
    "# subtlety to keep in mind when using inheritence and the\n",
    "# same method between a superclass and a subclass\n",
    "\n",
    "p1 = MITPerson('Eric')\n",
    "p2 = MITPerson('John')\n",
    "p3 = MITPerson('John')\n",
    "p4 = Person('John')\n",
    "\n",
    "p1 < p2  # p1.__lt__(p2)\n",
    "p4 < p1  # p4.__lt__(p1)\n",
    "\n",
    "# p1 < p4  # p1.__lt__(p4) ---> ERROR\n",
    "# we are using the __lt__ method associated with type of p1, \n",
    "# which needs an id number. p4 doesn't have an id number."
   ]
  },
  {
   "cell_type": "code",
   "execution_count": null,
   "metadata": {
    "collapsed": true
   },
   "outputs": [],
   "source": []
  },
  {
   "cell_type": "code",
   "execution_count": 49,
   "metadata": {
    "collapsed": true
   },
   "outputs": [],
   "source": []
  },
  {
   "cell_type": "code",
   "execution_count": null,
   "metadata": {
    "collapsed": true
   },
   "outputs": [],
   "source": []
  }
 ],
 "metadata": {
  "kernelspec": {
   "display_name": "Python 3",
   "language": "python",
   "name": "python3"
  },
  "language_info": {
   "codemirror_mode": {
    "name": "ipython",
    "version": 3
   },
   "file_extension": ".py",
   "mimetype": "text/x-python",
   "name": "python",
   "nbconvert_exporter": "python",
   "pygments_lexer": "ipython3",
   "version": "3.6.1"
  }
 },
 "nbformat": 4,
 "nbformat_minor": 2
}
