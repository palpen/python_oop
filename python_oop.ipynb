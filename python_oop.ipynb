{
 "cells": [
  {
   "cell_type": "markdown",
   "metadata": {},
   "source": [
    "# OOP in Python\n",
    "* Everything in Python is an **object** and has a **type**\n",
    "* A user-defined type is called a **class**\n",
    "* An **instance** is a particular type of object (e.g. 1234 is an instance of the type int, \"hello\" is an instance of the type string)\n"
   ]
  },
  {
   "cell_type": "code",
   "execution_count": 29,
   "metadata": {},
   "outputs": [
    {
     "name": "stdout",
     "output_type": "stream",
     "text": [
      "bar!\n"
     ]
    }
   ],
   "source": [
    "# a basic class\n",
    "\n",
    "class testclass(object):\n",
    "    a = 'test string'\n",
    "    \n",
    "    def foo():\n",
    "        print('bar!')\n",
    "\n",
    "# pulling variables and functions out of a class is done using the period\n",
    "testclass.a\n",
    "testclass.foo()"
   ]
  },
  {
   "cell_type": "code",
   "execution_count": 41,
   "metadata": {},
   "outputs": [
    {
     "name": "stdout",
     "output_type": "stream",
     "text": [
      "<__main__.my_string object at 0x10dac20b8>\n"
     ]
    }
   ],
   "source": [
    "# a more interesting class\n",
    "# object arguement allows us to inherit attributes of object superclass\n",
    "\n",
    "class my_string(object):\n",
    "    \n",
    "    def __init__(self, string):\n",
    "        self.string = string\n",
    "\n",
    "str1 = my_string('hello')\n",
    "print(str1)"
   ]
  },
  {
   "cell_type": "code",
   "execution_count": 42,
   "metadata": {},
   "outputs": [
    {
     "name": "stdout",
     "output_type": "stream",
     "text": [
      "hello\n"
     ]
    }
   ],
   "source": [
    "# cant really do anything with this class. Add some methods\n",
    "\n",
    "class my_string(object):\n",
    "    \n",
    "    def __init__(self, string):\n",
    "        \n",
    "        self.string = string\n",
    "        \n",
    "    def __str__(self):\n",
    "        return self.string\n",
    "        \n",
    "str1 = my_string('hello')\n",
    "print(str1)"
   ]
  },
  {
   "cell_type": "markdown",
   "metadata": {},
   "source": [
    "# Person class"
   ]
  },
  {
   "cell_type": "code",
   "execution_count": 43,
   "metadata": {
    "collapsed": true
   },
   "outputs": [],
   "source": [
    "import datetime\n",
    "\n",
    "class Person(object):\n",
    "    def __init__(self, name):\n",
    "        self.name = name\n",
    "        self.birthday = None\n",
    "        self.lastName = name.split(' ')[-1]\n",
    "        \n",
    "    def getLastName(self):\n",
    "        return self.lastName\n",
    "    \n",
    "    def __str__(self):\n",
    "        \"\"\"return self's name. Allows use of print() function on instance of class\"\"\"\n",
    "        return self.name\n",
    "    \n",
    "    def setBirthday(self, month, day, year):\n",
    "        \"\"\"sets self's birthday to birthDate\"\"\"\n",
    "        self.birthday = datetime.date(year, month, day)\n",
    "        \n",
    "    def getAge(self):\n",
    "        \"\"\"returns self's current age in days\"\"\"\n",
    "        if self.birthday == None:\n",
    "            raise ValueError\n",
    "            \n",
    "        return (datetime.date.today() - self.birthday).days\n",
    "    \n",
    "    def __lt__(self, other):\n",
    "        \"\"\"return True if self's name is lexicographically less\n",
    "        than other's name, False otherwise\"\"\"\n",
    "        if self.lastName == other.lastName:\n",
    "            return self.name < other.name\n",
    "        return self.lastName < other.lastName"
   ]
  },
  {
   "cell_type": "code",
   "execution_count": 45,
   "metadata": {},
   "outputs": [
    {
     "name": "stdout",
     "output_type": "stream",
     "text": [
      "Joe Smith\n"
     ]
    },
    {
     "data": {
      "text/plain": [
       "'Smith'"
      ]
     },
     "execution_count": 45,
     "metadata": {},
     "output_type": "execute_result"
    }
   ],
   "source": [
    "p1 = Person('Joe Smith')\n",
    "print(p1)  # uses the built-in method __str__\n",
    "p1.setBirthday(1, 15, 1974)\n",
    "p1.getAge() # get age in days\n",
    "p1.getLastName()"
   ]
  },
  {
   "cell_type": "markdown",
   "metadata": {},
   "source": [
    "# Building inheritence"
   ]
  },
  {
   "cell_type": "code",
   "execution_count": 56,
   "metadata": {
    "collapsed": true
   },
   "outputs": [],
   "source": [
    "class MITPerson(Person):  # inherits Person attributes\n",
    "    nextIdNum = 0  # useful for cases where two different people with same name\n",
    "    \n",
    "    def __init__(self, name):\n",
    "        Person.__init__(self, name)\n",
    "        self.idNum = MITPerson.nextIdNum\n",
    "        MITPerson.nextIdNum += 1\n",
    "        \n",
    "    def getIdNum(self):\n",
    "        return self.idNum\n",
    "    \n",
    "    def __lt__(self, other):\n",
    "        return self.idNum\n",
    "    "
   ]
  },
  {
   "cell_type": "code",
   "execution_count": 57,
   "metadata": {},
   "outputs": [
    {
     "name": "stdout",
     "output_type": "stream",
     "text": [
      "[<__main__.MITPerson object at 0x10d9bdb38>, <__main__.MITPerson object at 0x10d9bd898>, <__main__.MITPerson object at 0x10d9bd6a0>]\n",
      "Drew Houston\n",
      "Bill Gates\n",
      "Mark Zuckerberg\n"
     ]
    }
   ],
   "source": [
    "m3 = MITPerson('Mark Zuckerberg')\n",
    "m2 = MITPerson('Drew Houston')\n",
    "m1 = MITPerson('Bill Gates')\n",
    "\n",
    "MITPersonList = [m1, m2, m3]\n",
    "\n",
    "MITPersonList.sort()\n",
    "\n",
    "print(MITPersonList)\n",
    "\n",
    "for e in MITPersonList:\n",
    "    print(e)"
   ]
  },
  {
   "cell_type": "code",
   "execution_count": 49,
   "metadata": {
    "collapsed": true
   },
   "outputs": [],
   "source": []
  },
  {
   "cell_type": "code",
   "execution_count": null,
   "metadata": {
    "collapsed": true
   },
   "outputs": [],
   "source": []
  }
 ],
 "metadata": {
  "kernelspec": {
   "display_name": "Python 3",
   "language": "python",
   "name": "python3"
  },
  "language_info": {
   "codemirror_mode": {
    "name": "ipython",
    "version": 3
   },
   "file_extension": ".py",
   "mimetype": "text/x-python",
   "name": "python",
   "nbconvert_exporter": "python",
   "pygments_lexer": "ipython3",
   "version": "3.6.1"
  }
 },
 "nbformat": 4,
 "nbformat_minor": 2
}
